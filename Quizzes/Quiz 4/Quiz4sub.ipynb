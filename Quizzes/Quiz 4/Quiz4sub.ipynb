{
 "cells": [
  {
   "cell_type": "code",
   "execution_count": null,
   "metadata": {},
   "outputs": [],
   "source": [
    "import numpy as np\n",
    "import matplotlib.pyplot as plt \n",
    "def x_dot(x): #oops used english instead of code\n",
    "\treturn np.cos(x)-x \n",
    "\n",
    "time_array = [0] \n",
    "x_array = [0] \n",
    "delta_x = 1 \n",
    "time_delta = 0.1 \n",
    "while delta_x > 10**-6: # I messed up the direction of the greater than or less than sign here. \n",
    "\tx_old = x_array[-1]\n",
    "\tx_new = x_old + x_dot(x_old)*time_delta \n",
    "\tx_array.append(x_new) \n",
    "\ttime_array.append(time_array[-1]+time_delta)\n",
    "\tdelta_x = abs(x_new-x_old)\n",
    "plt.plot(time_array, x_array)\n",
    "print(time_array)\n",
    "print(x_array)\n",
    "plt.show()"
   ]
  },
  {
   "cell_type": "code",
   "execution_count": null,
   "metadata": {},
   "outputs": [],
   "source": [
    "import numpy as np\n",
    "import matplotlib.pyplot as plt\n",
    "\n",
    "m = 0.1 \n",
    "g = -10\n",
    "b = 1 \n",
    "tol = 10**-8 #tol was setup wrong because i just copied the value from the question oooooops \n",
    "delta_time = 0.01\n",
    "\n",
    "time_array=[0]\n",
    "y_array=[0]\n",
    "v_array=[0]\n",
    "a_array=[]\n",
    "delta_v = 1\n",
    "\n",
    "def y_dotdot(x): #used english instead of code\n",
    "\treturn g-(b/m)*x\n",
    "\n",
    "while delta_v > tol:\n",
    "\ty_old = y_array[-1]\n",
    "\tv_old = v_array[-1]\n",
    "\ta_new = y_dotdot(v_old)\n",
    "\tv_new = v_old + a_new*delta_time\n",
    "\ty_new = y_old + v_new*delta_time\n",
    "\ta_array.append(a_new)\n",
    "\tv_array.append(v_new)\n",
    "\ty_array.append(y_new)\n",
    "\ttime_array.append(time_array[-1]+delta_time)\n",
    "\tdelta_v = abs(v_new - v_old) #Forgot absolute sign \n",
    "\n",
    "plt.plot(time_array, y_array)\n",
    "print(tol)\n",
    "plt.plot(time_array, v_array) \n",
    "\n",
    "\n",
    "plt.show()\n",
    "# i wrote extensively about this for high school very fun to revisit the topic yay "
   ]
  }
 ],
 "metadata": {
  "language_info": {
   "name": "python"
  }
 },
 "nbformat": 4,
 "nbformat_minor": 2
}
