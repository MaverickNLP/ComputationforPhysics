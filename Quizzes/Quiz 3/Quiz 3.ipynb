{
 "cells": [
  {
   "cell_type": "code",
   "execution_count": null,
   "metadata": {},
   "outputs": [],
   "source": [
    "# Q5\n",
    "def f(x):\n",
    "\treturn 3*(x**2) - 5*x-1 # I like to put brackets for x**2 for clarity\n",
    "a = 1\n",
    "b = 2\n",
    "tol = 0.0001\n",
    "diff = 1 # just has to be > tol for the first check\n",
    "while diff > tol:\n",
    "\tif f(a)*f(b) < 0: # I like adding this line so that I don't have to actually do anything.\n",
    "\t\tc= (a+b)/2\n",
    "\t\tif f(c)*f(b)<0:\n",
    "\t\t\ta = c\n",
    "\t\t\tdiff = abs(b-a)\n",
    "\t\t\tprint(c)\n",
    "\t\telif f(c) *f(a)<0:\n",
    "\t\t\tb = c\n",
    "\t\t\tdiff = abs(b-a)\n",
    "\t\t\tprint(c)\n",
    "\telse:\n",
    "\t\tprint(\"Use different numbers!\")"
   ]
  },
  {
   "cell_type": "code",
   "execution_count": null,
   "metadata": {},
   "outputs": [],
   "source": [
    "# Q9\n",
    "import matplotlib.pyplot as plt\n",
    "def f(x):\n",
    "\treturn 3/(2*x) - x/2\n",
    "def f_dash(x):\n",
    "\treturn (-3/2)/(x**2)-1/2\n",
    "def g(x):\n",
    "\treturn (1/2)* (x+3/x)\n",
    "list_y = [1]\n",
    "iteration_limit = list(range(100))\n",
    "list_x = [1]\n",
    "# Apply Newton's method to f(x) to find fixed point of g(x)\n",
    "for i in iteration_limit:\n",
    "\tyO = list_y[-1]\n",
    "\ty1 = yO - f(yO)/f_dash(yO)\n",
    "\tx0 = list_x[-1]\n",
    "\tx1 = x0 + 1\n",
    "\tlist_y.append(y1) # Woops wrong list, I think extend takes a list as an argument and append must take an element. Welp.\n",
    "\tlist_x.append(x1)\n",
    "line1 = plt.plot(list_x, list_y)\n",
    "plt.show()"
   ]
  },
  {
   "cell_type": "code",
   "execution_count": null,
   "metadata": {},
   "outputs": [],
   "source": [
    "# Q13 \n",
    "import math\n",
    "def f(x):\n",
    "\treturn math.exp(x)-2\n",
    "def f_dash(x):\n",
    "\treturn math.exp(x)\n",
    "x0 = 200\n",
    "diff = 1\n",
    "tol = 0.001\n",
    "while diff > tol:\n",
    "\tprint(x0)\n",
    "\tx1 = x0 - f(x0)/f_dash(x0) # Woops wrong sign.\n",
    "\tdiff = abs(x1-x0)\n",
    "\tx0 = x1\n",
    "\n",
    "print(x0)"
   ]
  }
 ],
 "metadata": {
  "language_info": {
   "name": "python"
  }
 },
 "nbformat": 4,
 "nbformat_minor": 2
}
